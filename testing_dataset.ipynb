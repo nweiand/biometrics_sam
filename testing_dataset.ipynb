{
 "cells": [
  {
   "cell_type": "code",
   "execution_count": 189,
   "outputs": [],
   "source": [
    "import cv2\n",
    "import re\n",
    "import numpy as np\n",
    "import matplotlib.pyplot as plt\n",
    "from shapely import Polygon, intersection, union\n",
    "from skimage.measure import find_contours"
   ],
   "metadata": {
    "collapsed": false,
    "ExecuteTime": {
     "start_time": "2024-05-11T21:21:59.405943Z",
     "end_time": "2024-05-11T21:21:59.428938Z"
    }
   }
  },
  {
   "cell_type": "code",
   "execution_count": null,
   "outputs": [],
   "source": [
    "image = cv2.imread(\"../tattoo_images/2776427893_58405d2a94.jpg\")\n",
    "#cv2.rectangle(image,)\n",
    "cv2.imshow(\"first_tatto\",image)\n",
    "cv2.waitKey(10)\n",
    "cv2.destroyAllWindows()"
   ],
   "metadata": {
    "collapsed": false,
    "ExecuteTime": {
     "start_time": "2024-05-11T20:38:06.904767Z",
     "end_time": "2024-05-11T20:38:07.202796Z"
    }
   }
  },
  {
   "cell_type": "code",
   "execution_count": null,
   "outputs": [],
   "source": [
    "annotation_file = \"../tattoo_annotations.txt\"\n",
    "annotations = []\n",
    "match_pattern =r'(.+\\.jpg) (\\[.+\\])'\n",
    "split_pattern = r'[;\\s\\t\\n\\]]'\n",
    "result = {}\n",
    "with open(annotation_file) as file:\n",
    "    for input_str in file.readlines():\n",
    "        match = re.match(match_pattern, input_str)\n",
    "        if match:\n",
    "            filename = match.group(1)\n",
    "            coordinates_str = match.group(2)\n",
    "            coordinates_list = re.split(split_pattern, coordinates_str)\n",
    "            coordinates_list = [x.strip(r\"\\[\\]\") for x in coordinates_list if x != \"\"]\n",
    "            result[filename] = coordinates_list\n",
    "        else:\n",
    "            print(\"No matches!\")"
   ],
   "metadata": {
    "collapsed": false,
    "ExecuteTime": {
     "start_time": "2024-05-11T20:37:59.133738Z",
     "end_time": "2024-05-11T20:37:59.239988Z"
    }
   }
  },
  {
   "cell_type": "code",
   "execution_count": null,
   "outputs": [],
   "source": [
    "results_evaluated = {}\n",
    "for k,v in result.items():\n",
    "    results_evaluated[k] = [eval(x) for x in v]\n"
   ],
   "metadata": {
    "collapsed": false,
    "ExecuteTime": {
     "start_time": "2024-05-11T20:38:00.459198Z",
     "end_time": "2024-05-11T20:38:01.586002Z"
    }
   }
  },
  {
   "cell_type": "code",
   "execution_count": null,
   "outputs": [],
   "source": [
    "points = results_evaluated[\"2776427893_58405d2a94.jpg\"]\n",
    "points = [tuple(int(value) for value in original_tuple) for original_tuple in points]\n",
    "for point in points:\n",
    "    cv2.polylines(image, [np.array(points)], isClosed=False, color=(0, 255, 0), thickness=2)\n",
    "cv2.imshow(\"Image with points\", image)\n",
    "cv2.waitKey(0)\n",
    "cv2.destroyAllWindows()"
   ],
   "metadata": {
    "collapsed": false,
    "ExecuteTime": {
     "start_time": "2024-05-10T14:40:49.624577Z",
     "end_time": "2024-05-10T14:40:51.280341Z"
    }
   }
  },
  {
   "cell_type": "code",
   "execution_count": null,
   "outputs": [],
   "source": [
    "from segment_anything import SamAutomaticMaskGenerator, sam_model_registry\n",
    "sam = sam_model_registry[\"default\"](checkpoint=\"D:/Documents/AAA_Hochschule/SoSe_24/Biometrics/sam_vit_h_4b8939.pth\")\n",
    "mask_generator = SamAutomaticMaskGenerator(sam)\n",
    "masks = mask_generator.generate(image)"
   ],
   "metadata": {
    "collapsed": false,
    "ExecuteTime": {
     "start_time": "2024-05-11T11:36:47.641927Z",
     "end_time": "2024-05-11T11:40:36.541638Z"
    }
   }
  },
  {
   "cell_type": "code",
   "execution_count": null,
   "outputs": [],
   "source": [
    "def show_anns(anns):\n",
    "    if len(anns) == 0:\n",
    "        return\n",
    "    sorted_anns = sorted(anns, key=(lambda x: x['area']), reverse=True)\n",
    "    ax = plt.gca()\n",
    "    ax.set_autoscale_on(False)\n",
    "\n",
    "    img = np.ones((sorted_anns[0]['segmentation'].shape[0], sorted_anns[0]['segmentation'].shape[1], 4))\n",
    "    img[:,:,3] = 0\n",
    "    for ann in sorted_anns:\n",
    "        m = ann['segmentation']\n",
    "        color_mask = np.concatenate([np.random.random(3), [0.35]])\n",
    "        img[m] = color_mask\n",
    "    ax.imshow(img)"
   ],
   "metadata": {
    "collapsed": false,
    "ExecuteTime": {
     "start_time": "2024-05-11T11:56:05.440168Z",
     "end_time": "2024-05-11T11:56:05.444341Z"
    }
   }
  },
  {
   "cell_type": "code",
   "execution_count": null,
   "outputs": [],
   "source": [
    "plt.figure(figsize=(20,20))\n",
    "plt.imshow(image)\n",
    "show_anns(masks)\n",
    "plt.axis('off')\n",
    "plt.show()"
   ],
   "metadata": {
    "collapsed": false,
    "ExecuteTime": {
     "start_time": "2024-05-11T20:38:10.432511Z",
     "end_time": "2024-05-11T20:38:11.140974Z"
    }
   }
  },
  {
   "cell_type": "code",
   "execution_count": null,
   "outputs": [],
   "source": [
    "for m in masks:\n",
    "    print(m[\"segmentation\"][350])"
   ],
   "metadata": {
    "collapsed": false,
    "ExecuteTime": {
     "start_time": "2024-05-11T20:30:35.755652Z",
     "end_time": "2024-05-11T20:30:35.775892Z"
    }
   }
  },
  {
   "cell_type": "code",
   "execution_count": 133,
   "outputs": [],
   "source": [],
   "metadata": {
    "collapsed": false,
    "ExecuteTime": {
     "start_time": "2024-05-11T20:56:56.664634Z",
     "end_time": "2024-05-11T20:56:56.688748Z"
    }
   }
  },
  {
   "cell_type": "code",
   "execution_count": null,
   "outputs": [],
   "source": [
    "import numpy as np\n",
    "import matplotlib.pyplot as plt\n",
    "\n",
    "def mask_to_image(image, mask):\n",
    "    \"\"\"\n",
    "    Apply binary mask to the image and set False areas to black.\n",
    "\n",
    "    Args:\n",
    "    image (numpy.ndarray): The original image.\n",
    "    mask (numpy.ndarray): Binary mask indicating areas to keep.\n",
    "\n",
    "    Returns:\n",
    "    numpy.ndarray: Processed image.\n",
    "    \"\"\"\n",
    "    # Copy the original image to avoid modifying it directly\n",
    "    processed_image = np.copy(image)\n",
    "\n",
    "    # Set False areas to black\n",
    "    processed_image[~mask] = 0\n",
    "\n",
    "    return processed_image\n",
    "\n",
    "# Example usage:\n",
    "# Assuming you have your binary mask as 'binary_mask' and your original image as 'original_image'\n",
    "# Create some sample data for demonstration\n",
    "binary_mask = np.random.choice([True, False], size=(100, 100))\n",
    "\n",
    "# Convert binary mask to image\n",
    "processed_image = mask_to_image(image,masks[0]['segmentation'])\n",
    "\n",
    "# Display original and processed images\n",
    "plt.figure(figsize=(10, 5))\n",
    "plt.subplot(1, 2, 1)\n",
    "plt.imshow(image, cmap='gray')\n",
    "plt.title('Original Image')\n",
    "plt.axis('off')\n",
    "\n",
    "plt.subplot(1, 2, 2)\n",
    "plt.imshow(processed_image, cmap='gray')\n",
    "plt.title('Processed Image')\n",
    "plt.axis('off')\n",
    "plt.show()\n",
    "\n"
   ],
   "metadata": {
    "collapsed": false,
    "ExecuteTime": {
     "start_time": "2024-05-11T20:38:16.913725Z",
     "end_time": "2024-05-11T20:38:17.128586Z"
    }
   }
  },
  {
   "cell_type": "code",
   "execution_count": null,
   "outputs": [],
   "source": [
    "processed_image = mask_to_image(image,masks[1]['segmentation'])\n",
    "\n",
    "# Display original and processed images\n",
    "plt.figure(figsize=(10, 5))\n",
    "plt.subplot(1, 2, 1)\n",
    "plt.imshow(image, cmap='gray')\n",
    "plt.title('Original Image')\n",
    "plt.axis('off')\n",
    "\n",
    "plt.subplot(1, 2, 2)\n",
    "plt.imshow(processed_image, cmap='gray')\n",
    "plt.title('Processed Image')\n",
    "plt.axis('off')\n",
    "\n",
    "plt.show()\n",
    "\n"
   ],
   "metadata": {
    "collapsed": false,
    "ExecuteTime": {
     "start_time": "2024-05-11T20:54:27.082729Z",
     "end_time": "2024-05-11T20:54:27.329467Z"
    }
   }
  },
  {
   "cell_type": "code",
   "execution_count": null,
   "outputs": [],
   "source": [
    "import numpy as np\n",
    "import matplotlib.pyplot as plt\n",
    "\n",
    "def mask_to_image(image, mask):\n",
    "    \"\"\"\n",
    "    Apply binary mask to the image and set False areas to black.\n",
    "\n",
    "    Args:\n",
    "    image (numpy.ndarray): The original image.\n",
    "    mask (numpy.ndarray): Binary mask indicating areas to keep.\n",
    "\n",
    "    Returns:\n",
    "    numpy.ndarray: Processed image.\n",
    "    \"\"\"\n",
    "    # Copy the original image to avoid modifying it directly\n",
    "    processed_image = np.copy(image)\n",
    "\n",
    "    # Set False areas to black\n",
    "    processed_image[~mask] = 0\n",
    "\n",
    "    return processed_image\n",
    "\n",
    "def plot_segmentations(original_image, segmentations, titles):\n",
    "    \"\"\"\n",
    "    Plot the original image along with multiple segmented images.\n",
    "\n",
    "    Args:\n",
    "    original_image (numpy.ndarray): The original image.\n",
    "    segmentations (list of numpy.ndarray): List of segmented images.\n",
    "    titles (list of str): Titles for each segmented image.\n",
    "    \"\"\"\n",
    "    num_segmentations = len(segmentations)\n",
    "    num_plots = num_segmentations + 1  # Include original image\n",
    "\n",
    "    plt.figure(figsize=(5 * num_plots, 5))\n",
    "\n",
    "    # Plot the original image\n",
    "    plt.subplot(1, num_plots, 1)\n",
    "    plt.imshow(original_image)\n",
    "    plt.title('Original Image')\n",
    "    plt.axis('off')\n",
    "\n",
    "    # Plot each segmented image\n",
    "    for i in range(num_segmentations):\n",
    "        plt.subplot(1, num_plots, i + 2)\n",
    "        plt.imshow(segmentations[i], cmap=\"grey\")\n",
    "        plt.title(titles[i])\n",
    "        plt.axis('off')\n",
    "\n",
    "    plt.show()\n",
    "\n",
    "# Example usage:\n",
    "# Assuming you have your original image as 'original_image' and a list of binary masks as 'segmentation_masks'\n",
    "# Also assuming you have a list of titles for each segmentation mask as 'segment_titles'\n",
    "\n",
    "# Create some sample data for demonstration\n",
    "num_segmentations = len(masks)\n",
    "segment_titles = [f'Segmentation {i+1}' for i in range(num_segmentations)]\n",
    "\n",
    "# Convert binary masks to images\n",
    "segmented_images = [mask['segmentation'] for mask in masks]\n",
    "\n",
    "# Plot original image and segmented images\n",
    "plot_segmentations(image, segmented_images, segment_titles)\n"
   ],
   "metadata": {
    "collapsed": false,
    "ExecuteTime": {
     "start_time": "2024-05-11T20:38:21.571519Z",
     "end_time": "2024-05-11T20:38:23.275366Z"
    }
   }
  },
  {
   "cell_type": "code",
   "execution_count": 173,
   "outputs": [
    {
     "data": {
      "text/plain": "<Figure size 640x480 with 1 Axes>",
      "image/png": "[encoded data removed]"
     },
     "metadata": {},
     "output_type": "display_data"
    }
   ],
   "source": [
    "import numpy as np\n",
    "import matplotlib.pyplot as plt\n",
    "from matplotlib.patches import Polygon\n",
    "\n",
    "\n",
    "# Find contours\n",
    "contours = find_contours(masks[1][\"segmentation\"], 0.5)\n",
    "\n",
    "# Plot the binary mask\n",
    "plt.imshow(binary_mask, cmap='gray')\n",
    "\n",
    "# Plot each contour as a polygon\n",
    "for contour in contours:\n",
    "    plt.plot(contour[:, 1], contour[:, 0], linewidth=2)\n",
    "\n",
    "plt.axis('image')\n",
    "plt.show()\n"
   ],
   "metadata": {
    "collapsed": false,
    "ExecuteTime": {
     "start_time": "2024-05-11T21:20:00.832351Z",
     "end_time": "2024-05-11T21:20:00.962753Z"
    }
   }
  },
  {
   "cell_type": "code",
   "execution_count": 160,
   "outputs": [
    {
     "data": {
      "text/plain": "array([[471. , 217.5],\n       [470. , 217.5],\n       [469.5, 218. ],\n       ...,\n       [471.5, 216. ],\n       [471.5, 217. ],\n       [471. , 217.5]])"
     },
     "execution_count": 160,
     "metadata": {},
     "output_type": "execute_result"
    }
   ],
   "source": [
    "contours[0]"
   ],
   "metadata": {
    "collapsed": false,
    "ExecuteTime": {
     "start_time": "2024-05-11T21:13:22.832926Z",
     "end_time": "2024-05-11T21:13:22.851877Z"
    }
   }
  },
  {
   "cell_type": "code",
   "execution_count": 196,
   "outputs": [
    {
     "name": "stdout",
     "output_type": "stream",
     "text": [
      "5\n",
      "No\n",
      "0.022931095578158252\n",
      "0.0\n",
      "0.0\n",
      "0.01094088660813381\n",
      "0.0\n",
      "0.0\n",
      "0.0\n",
      "0.0\n",
      "0.0\n",
      "0.0\n",
      "0.005487085274901756\n",
      "0.0\n",
      "0.0\n"
     ]
    }
   ],
   "source": [
    "def calculate_iou(polygon1, polygon2):\n",
    "    polygon1 = Polygon(polygon1)\n",
    "    polygon2 = Polygon(polygon2)\n",
    "\n",
    "    intersection_area = intersection(polygon1, polygon2).area\n",
    "    union_area = union(polygon1, polygon2).area\n",
    "\n",
    "    IOU = intersection_area/union_area\n",
    "\n",
    "    return IOU\n",
    "for mask in masks:\n",
    "    contours = find_contours(mask[\"segmentation\"], 0.5)\n",
    "    if len(contours) > 1:\n",
    "        print(len(contours))\n",
    "        print(\"No\")\n",
    "    else:\n",
    "        print(calculate_iou(points, contours[0]))\n"
   ],
   "metadata": {
    "collapsed": false,
    "ExecuteTime": {
     "start_time": "2024-05-11T21:23:18.057614Z",
     "end_time": "2024-05-11T21:23:18.183424Z"
    }
   }
  },
  {
   "cell_type": "code",
   "execution_count": 195,
   "outputs": [
    {
     "data": {
      "text/plain": "0.022931095578158252"
     },
     "execution_count": 195,
     "metadata": {},
     "output_type": "execute_result"
    }
   ],
   "source": [
    "\n",
    "p2 = Polygon(points)\n",
    "\n",
    "p1 = Polygon(contours[0])\n",
    "(intersection(p1,p2).area)/(union(p1,p2).area)"
   ],
   "metadata": {
    "collapsed": false,
    "ExecuteTime": {
     "start_time": "2024-05-11T21:22:46.638765Z",
     "end_time": "2024-05-11T21:22:46.713766Z"
    }
   }
  }
 ],
 "metadata": {
  "kernelspec": {
   "display_name": "Python 3",
   "language": "python",
   "name": "python3"
  },
  "language_info": {
   "codemirror_mode": {
    "name": "ipython",
    "version": 2
   },
   "file_extension": ".py",
   "mimetype": "text/x-python",
   "name": "python",
   "nbconvert_exporter": "python",
   "pygments_lexer": "ipython2",
   "version": "2.7.6"
  }
 },
 "nbformat": 4,
 "nbformat_minor": 0
}
