{
 "cells": [
  {
   "cell_type": "code",
   "execution_count": 21,
   "outputs": [],
   "source": [
    "import cv2\n",
    "import re\n",
    "import numpy as np"
   ],
   "metadata": {
    "collapsed": false,
    "ExecuteTime": {
     "start_time": "2024-05-09T16:08:54.583649Z",
     "end_time": "2024-05-09T16:08:54.639656Z"
    }
   }
  },
  {
   "cell_type": "code",
   "execution_count": 40,
   "outputs": [],
   "source": [
    "image = cv2.imread(\"../tattoo_images/2776427893_58405d2a94.jpg\")\n",
    "#cv2.rectangle(image,)\n",
    "cv2.imshow(\"first_tatto\",image)\n",
    "cv2.waitKey(10)\n",
    "cv2.destroyAllWindows()"
   ],
   "metadata": {
    "collapsed": false,
    "ExecuteTime": {
     "start_time": "2024-05-09T17:01:08.346400Z",
     "end_time": "2024-05-09T17:01:08.438247Z"
    }
   }
  },
  {
   "cell_type": "code",
   "execution_count": 35,
   "outputs": [],
   "source": [
    "annotation_file = \"../tattoo_annotations.txt\"\n",
    "annotations = []\n",
    "match_pattern =r'(.+\\.jpg) (\\[.+\\])'\n",
    "split_pattern = r'[;\\s\\t\\n\\]]'\n",
    "result = {}\n",
    "with open(annotation_file) as file:\n",
    "    for input_str in file.readlines():\n",
    "        match = re.match(match_pattern, input_str)\n",
    "        if match:\n",
    "            filename = match.group(1)\n",
    "            coordinates_str = match.group(2)\n",
    "            coordinates_list = re.split(split_pattern, coordinates_str)\n",
    "            coordinates_list = [x.strip(r\"\\[\\]\") for x in coordinates_list if x != \"\"]\n",
    "            result[filename] = coordinates_list\n",
    "        else:\n",
    "            print(\"No matches!\")"
   ],
   "metadata": {
    "collapsed": false,
    "ExecuteTime": {
     "start_time": "2024-05-09T16:59:55.440816Z",
     "end_time": "2024-05-09T16:59:55.574125Z"
    }
   }
  },
  {
   "cell_type": "code",
   "execution_count": 42,
   "outputs": [],
   "source": [
    "results_evaluated = {}\n",
    "for k,v in result.items():\n",
    "    results_evaluated[k] = [eval(x) for x in v]\n"
   ],
   "metadata": {
    "collapsed": false,
    "ExecuteTime": {
     "start_time": "2024-05-10T14:40:45.517517Z",
     "end_time": "2024-05-10T14:40:46.616691Z"
    }
   }
  },
  {
   "cell_type": "code",
   "execution_count": 43,
   "outputs": [],
   "source": [
    "points = results_evaluated[\"2776427893_58405d2a94.jpg\"]\n",
    "points = [tuple(int(value) for value in original_tuple) for original_tuple in points]\n",
    "for point in points:\n",
    "    cv2.polylines(image, [np.array(points)], isClosed=False, color=(0, 255, 0), thickness=2)\n",
    "cv2.imshow(\"Image with points\", image)\n",
    "cv2.waitKey(0)\n",
    "cv2.destroyAllWindows()"
   ],
   "metadata": {
    "collapsed": false,
    "ExecuteTime": {
     "start_time": "2024-05-10T14:40:49.624577Z",
     "end_time": "2024-05-10T14:40:51.280341Z"
    }
   }
  },
  {
   "cell_type": "code",
   "execution_count": 28,
   "outputs": [],
   "source": [],
   "metadata": {
    "collapsed": false,
    "ExecuteTime": {
     "start_time": "2024-05-09T16:54:53.516055Z",
     "end_time": "2024-05-09T16:54:53.556086Z"
    }
   }
  }
 ],
 "metadata": {
  "kernelspec": {
   "display_name": "Python 3",
   "language": "python",
   "name": "python3"
  },
  "language_info": {
   "codemirror_mode": {
    "name": "ipython",
    "version": 2
   },
   "file_extension": ".py",
   "mimetype": "text/x-python",
   "name": "python",
   "nbconvert_exporter": "python",
   "pygments_lexer": "ipython2",
   "version": "2.7.6"
  }
 },
 "nbformat": 4,
 "nbformat_minor": 0
}
